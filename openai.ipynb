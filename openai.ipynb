{
 "cells": [
  {
   "cell_type": "code",
   "execution_count": 16,
   "metadata": {},
   "outputs": [],
   "source": [
    "import os\n",
    "import openai\n",
    "openai.api_key = \"YOUR_API_KEY\"\n",
    "\n",
    "response = openai.Completion.create(\n",
    "  model=\"text-davinci-002\",\n",
    "  prompt=\"aku ingin makan malam ini\",\n",
    "  temperature=0.7,\n",
    "  max_tokens=256,\n",
    "  top_p=1,\n",
    "  frequency_penalty=0,\n",
    "  presence_penalty=0\n",
    ")"
   ]
  },
  {
   "cell_type": "code",
   "execution_count": 19,
   "metadata": {},
   "outputs": [
    {
     "name": "stdout",
     "output_type": "stream",
     "text": [
      ", dan inginkan segera memasaknya. Bagi keluarga saya yang berada di sebelah kiri karena saya punya sedikit waktu, Anda dapat membuat makanan seperti ini. Makan malam ini, saya akan mencoba untuk membuatnya dengan sedikit penyesuaian. Semoga berhasil ya ??\n",
      "\n",
      "Cara Menyiapkan Kue Kering Bangkit\n",
      "\n",
      "Cara Menyiapkan Kue Kering Bangkit\n",
      "\n",
      "Dibawah ini adalah dari resep saya sendiri. Kue kering ini sangat bagus dan lezat. Pastinya Anda akan menyukainya dan menyebarkannya ke teman-teman Anda. Kue kering ini dapat dibuat dengan berbagai macam rasa. Untuk membuatnya, ikuti langkah-langkah di bawah ini.\n",
      "\n",
      "Bahan-bahan\n",
      "\n",
      "1. Beras Ketan, u\n"
     ]
    }
   ],
   "source": [
    "import json\n",
    "# print text response\n",
    "a = (json.dumps(response, indent=4))\n",
    "b = json.loads(a) \n",
    "print(b['choices'][0]['text'])"
   ]
  }
 ],
 "metadata": {
  "kernelspec": {
   "display_name": "Python 3.10.4 64-bit",
   "language": "python",
   "name": "python3"
  },
  "language_info": {
   "codemirror_mode": {
    "name": "ipython",
    "version": 3
   },
   "file_extension": ".py",
   "mimetype": "text/x-python",
   "name": "python",
   "nbconvert_exporter": "python",
   "pygments_lexer": "ipython3",
   "version": "3.10.4"
  },
  "orig_nbformat": 4,
  "vscode": {
   "interpreter": {
    "hash": "3ad933181bd8a04b432d3370b9dc3b0662ad032c4dfaa4e4f1596c548f763858"
   }
  }
 },
 "nbformat": 4,
 "nbformat_minor": 2
}
